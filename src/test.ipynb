{
 "cells": [
  {
   "cell_type": "code",
   "execution_count": 35,
   "id": "1703e96d",
   "metadata": {},
   "outputs": [],
   "source": [
    "version = 2\n",
    "padding = 0\n",
    "extension = 0\n",
    "cc = 0\n",
    "marker = 0\n",
    "pt = 26 # MJPEG type\n",
    "seqnum = 12\n",
    "ssrc = 0 "
   ]
  },
  {
   "cell_type": "code",
   "execution_count": 36,
   "id": "e35f90d1",
   "metadata": {},
   "outputs": [],
   "source": [
    "import sys\n",
    "from time import time"
   ]
  },
  {
   "cell_type": "code",
   "execution_count": 37,
   "id": "e5bc877d",
   "metadata": {},
   "outputs": [
    {
     "name": "stdout",
     "output_type": "stream",
     "text": [
      "1652415712\n",
      "bytearray(b'\\x00\\x00\\x00\\x00\\x00\\x00\\x00\\x00\\x00\\x00\\x00\\x00')\n",
      "bytearray(b'\\x80\\x1a\\x00\\x0cb}\\xdc\\xe0\\x00\\x00\\x00\\x00')\n"
     ]
    }
   ],
   "source": [
    "timestamp = int(time())\n",
    "print(timestamp)\n",
    "header = bytearray(12) \n",
    "print(header)\n",
    "\n",
    "header[0] = header[0] | version << (7-1)\n",
    "header[0] = header[0] | padding << (7-2)\n",
    "header[0] = header[0] | extension << (7-3)\n",
    "header[0] = header[0] | cc << 0\n",
    "header[1] = header[1] | marker << 7\n",
    "header[1] = header[1] | pt << 0\n",
    "header[2] = (int(seqnum) >> 8) & 0xff\n",
    "header[3] = int(seqnum) & 0xff\n",
    "header[4] = (timestamp >> 24) & 0xff\n",
    "header[5] = (timestamp >> 16) & 0xff\n",
    "header[6] = (timestamp >> 8) & 0xff\n",
    "header[7] = timestamp & 0xff\n",
    "header[8] = (ssrc >> 24) & 0xff\n",
    "header[9] = (ssrc >> 16) & 0xff\n",
    "header[10] = (ssrc >> 8) & 0xff\n",
    "header[11] = ssrc & 0xff\n",
    "print(header)"
   ]
  },
  {
   "cell_type": "code",
   "execution_count": 38,
   "id": "efe913b6",
   "metadata": {},
   "outputs": [
    {
     "name": "stdout",
     "output_type": "stream",
     "text": [
      "bytearray(b'\\x80\\x1a\\x00\\x0cb}\\xdc\\xe0\\x00\\x00\\x00\\x00')\n"
     ]
    }
   ],
   "source": [
    "header = bytearray(header[:12])\n",
    "print(header)"
   ]
  },
  {
   "cell_type": "code",
   "execution_count": 39,
   "id": "99b15d65",
   "metadata": {},
   "outputs": [
    {
     "data": {
      "text/plain": [
       "2"
      ]
     },
     "execution_count": 39,
     "metadata": {},
     "output_type": "execute_result"
    }
   ],
   "source": [
    "header[0] >> 6"
   ]
  },
  {
   "cell_type": "code",
   "execution_count": 41,
   "id": "aee16109",
   "metadata": {},
   "outputs": [
    {
     "data": {
      "text/plain": [
       "12"
      ]
     },
     "execution_count": 41,
     "metadata": {},
     "output_type": "execute_result"
    }
   ],
   "source": [
    "int(header[2] << 8 | header[3])"
   ]
  },
  {
   "cell_type": "code",
   "execution_count": 42,
   "id": "bd007745",
   "metadata": {},
   "outputs": [
    {
     "data": {
      "text/plain": [
       "1652415712"
      ]
     },
     "execution_count": 42,
     "metadata": {},
     "output_type": "execute_result"
    }
   ],
   "source": [
    "int(header[4] << 24 | header[5] << 16 | header[6] << 8 | header[7])"
   ]
  },
  {
   "cell_type": "code",
   "execution_count": 24,
   "id": "9e0fa233",
   "metadata": {},
   "outputs": [],
   "source": [
    "header[0] = (seq >> 8) & 0xff\n",
    "header[1] = seq & 0xff"
   ]
  },
  {
   "cell_type": "code",
   "execution_count": 25,
   "id": "bc595505",
   "metadata": {},
   "outputs": [
    {
     "name": "stdout",
     "output_type": "stream",
     "text": [
      "007b\n"
     ]
    }
   ],
   "source": [
    "byteStream(header)"
   ]
  },
  {
   "cell_type": "code",
   "execution_count": 15,
   "id": "f970bd91",
   "metadata": {},
   "outputs": [],
   "source": [
    "status = lines[0].split(' ')[1]"
   ]
  },
  {
   "cell_type": "code",
   "execution_count": 16,
   "id": "a556e3db",
   "metadata": {},
   "outputs": [
    {
     "data": {
      "text/plain": [
       "'200'"
      ]
     },
     "execution_count": 16,
     "metadata": {},
     "output_type": "execute_result"
    }
   ],
   "source": [
    "status"
   ]
  },
  {
   "cell_type": "code",
   "execution_count": 17,
   "id": "10d4fffb",
   "metadata": {},
   "outputs": [],
   "source": [
    "seq = lines[1].split(' ')[1]"
   ]
  },
  {
   "cell_type": "code",
   "execution_count": 18,
   "id": "ed9ade87",
   "metadata": {},
   "outputs": [
    {
     "data": {
      "text/plain": [
       "'1'"
      ]
     },
     "execution_count": 18,
     "metadata": {},
     "output_type": "execute_result"
    }
   ],
   "source": [
    "seq"
   ]
  },
  {
   "cell_type": "code",
   "execution_count": 19,
   "id": "3096fa91",
   "metadata": {},
   "outputs": [],
   "source": [
    "session = lines[2].split(' ')[1]"
   ]
  },
  {
   "cell_type": "code",
   "execution_count": 20,
   "id": "ab6cd955",
   "metadata": {},
   "outputs": [
    {
     "data": {
      "text/plain": [
       "'123456'"
      ]
     },
     "execution_count": 20,
     "metadata": {},
     "output_type": "execute_result"
    }
   ],
   "source": [
    "session"
   ]
  },
  {
   "cell_type": "code",
   "execution_count": null,
   "id": "35415dcc",
   "metadata": {},
   "outputs": [],
   "source": []
  }
 ],
 "metadata": {
  "interpreter": {
   "hash": "11938c6bc6919ae2720b4d5011047913343b08a43b18698fd82dedb0d4417594"
  },
  "kernelspec": {
   "display_name": "Python 3.9.9 64-bit",
   "language": "python",
   "name": "python3"
  },
  "language_info": {
   "codemirror_mode": {
    "name": "ipython",
    "version": 3
   },
   "file_extension": ".py",
   "mimetype": "text/x-python",
   "name": "python",
   "nbconvert_exporter": "python",
   "pygments_lexer": "ipython3",
   "version": "3.9.9"
  }
 },
 "nbformat": 4,
 "nbformat_minor": 5
}
