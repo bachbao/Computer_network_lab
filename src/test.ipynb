{
 "cells": [
  {
   "cell_type": "code",
   "execution_count": 4,
   "id": "1703e96d",
   "metadata": {},
   "outputs": [],
   "source": [
    "seq = '1'"
   ]
  },
  {
   "cell_type": "code",
   "execution_count": 5,
   "id": "e5bc877d",
   "metadata": {},
   "outputs": [],
   "source": [
    "reply = 'RTSP/1.0 200 OK\\nCSeq: ' + seq + '\\nSession: ' + '123456'"
   ]
  },
  {
   "cell_type": "code",
   "execution_count": 7,
   "id": "efe913b6",
   "metadata": {},
   "outputs": [
    {
     "name": "stdout",
     "output_type": "stream",
     "text": [
      "RTSP/1.0 200 OK\n",
      "CSeq: 1\n",
      "Session: 123456\n"
     ]
    }
   ],
   "source": [
    "print(reply)"
   ]
  },
  {
   "cell_type": "code",
   "execution_count": 9,
   "id": "bc595505",
   "metadata": {},
   "outputs": [],
   "source": [
    "lines = reply.split('\\n')"
   ]
  },
  {
   "cell_type": "code",
   "execution_count": 10,
   "id": "a93e3352",
   "metadata": {},
   "outputs": [
    {
     "data": {
      "text/plain": [
       "['RTSP/1.0 200 OK', 'CSeq: 1', 'Session: 123456']"
      ]
     },
     "execution_count": 10,
     "metadata": {},
     "output_type": "execute_result"
    }
   ],
   "source": [
    "lines"
   ]
  },
  {
   "cell_type": "code",
   "execution_count": 15,
   "id": "f970bd91",
   "metadata": {},
   "outputs": [],
   "source": [
    "status = lines[0].split(' ')[1]"
   ]
  },
  {
   "cell_type": "code",
   "execution_count": 16,
   "id": "a556e3db",
   "metadata": {},
   "outputs": [
    {
     "data": {
      "text/plain": [
       "'200'"
      ]
     },
     "execution_count": 16,
     "metadata": {},
     "output_type": "execute_result"
    }
   ],
   "source": [
    "status"
   ]
  },
  {
   "cell_type": "code",
   "execution_count": 17,
   "id": "10d4fffb",
   "metadata": {},
   "outputs": [],
   "source": [
    "seq = lines[1].split(' ')[1]"
   ]
  },
  {
   "cell_type": "code",
   "execution_count": 18,
   "id": "ed9ade87",
   "metadata": {},
   "outputs": [
    {
     "data": {
      "text/plain": [
       "'1'"
      ]
     },
     "execution_count": 18,
     "metadata": {},
     "output_type": "execute_result"
    }
   ],
   "source": [
    "seq"
   ]
  },
  {
   "cell_type": "code",
   "execution_count": 19,
   "id": "3096fa91",
   "metadata": {},
   "outputs": [],
   "source": [
    "session = lines[2].split(' ')[1]"
   ]
  },
  {
   "cell_type": "code",
   "execution_count": 20,
   "id": "ab6cd955",
   "metadata": {},
   "outputs": [
    {
     "data": {
      "text/plain": [
       "'123456'"
      ]
     },
     "execution_count": 20,
     "metadata": {},
     "output_type": "execute_result"
    }
   ],
   "source": [
    "session"
   ]
  },
  {
   "cell_type": "code",
   "execution_count": null,
   "id": "35415dcc",
   "metadata": {},
   "outputs": [],
   "source": []
  }
 ],
 "metadata": {
  "kernelspec": {
   "display_name": "Python 3",
   "language": "python",
   "name": "python3"
  },
  "language_info": {
   "codemirror_mode": {
    "name": "ipython",
    "version": 3
   },
   "file_extension": ".py",
   "mimetype": "text/x-python",
   "name": "python",
   "nbconvert_exporter": "python",
   "pygments_lexer": "ipython3",
   "version": "3.8.3"
  }
 },
 "nbformat": 4,
 "nbformat_minor": 5
}
